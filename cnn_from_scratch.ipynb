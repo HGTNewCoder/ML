{
 "cells": [
  {
   "cell_type": "code",
   "execution_count": 25,
   "metadata": {},
   "outputs": [],
   "source": [
    "import numpy as np\n",
    "from tensorflow.keras.datasets import mnist\n",
    "import matplotlib.pyplot as plt\n",
    "import pandas as pd"
   ]
  },
  {
   "cell_type": "code",
   "execution_count": 31,
   "metadata": {},
   "outputs": [],
   "source": [
    "class ManualFunction():\n",
    "    def __init__(self):\n",
    "        pass\n",
    "    def train_test_split(self, data, train_size: float):\n",
    "        if isinstance(data, pd.DataFrame):\n",
    "            is_pandas = True\n",
    "            data_np = data.to_numpy()\n",
    "            \n",
    "            row = data_np.shape[0]\n",
    "            col = data_np.shape[1]\n",
    "            \n",
    "            split_index = int(train_size*data_np.shape[0])\n",
    "            x_train = data_np[:split_index, :-1]\n",
    "            y_train = data_np[:split_index, -1]\n",
    "            x_test = data_np[split_index:, :-1]\n",
    "            y_test = data_np[split_index:, -1]\n",
    "            \n",
    "            y_column = data.columns[-1]\n",
    "            x_column = data.columns[:-1]\n",
    "            \n",
    "            x_train = pd.DataFrame(x_train, columns=x_column)\n",
    "            x_test = pd.DataFrame(x_test, columns=x_column)\n",
    "            y_train = pd.Series(y_train, name=y_column)\n",
    "            y_test = pd.Series(y_test, name=y_column)\n",
    "            \n",
    "            return x_train, y_train, x_test, y_test\n",
    "            \n",
    "        elif isinstance(data, np.ndarray):\n",
    "            row = data.shape[0]\n",
    "            col = data.shape[1]\n",
    "            \n",
    "            split_index = int(train_size*data.shape[0])\n",
    "            x_train = data[:split_index, :-1]\n",
    "            y_train = data[:split_index, -1]\n",
    "            x_test = data[split_index:, :-1]\n",
    "            y_test = data[split_index:, -1]\n",
    "            \n",
    "            return x_train, y_train, x_test, y_test\n",
    "            \n",
    "        else:\n",
    "            return \"Data instance not fit\"\n",
    "\n",
    "    def one_hot_encoding(self, data: pd.DataFrame, feature_name: str):\n",
    "        target = data[[feature_name]]\n",
    "        mapping = pd.get_dummies(data=target, prefix=feature_name, dtype='int64')\n",
    "        data = pd.concat([data, mapping], axis = 1)\n",
    "        data = data.drop(columns=feature_name)\n",
    "        return data\n",
    "\n",
    "    def sigmoid(s):\n",
    "        return 1/(1+ np.exp(-s))\n",
    "\n",
    "manual = ManualFunction()"
   ]
  },
  {
   "cell_type": "code",
   "execution_count": null,
   "metadata": {},
   "outputs": [
    {
     "data": {
      "text/plain": [
       "(60000, 28, 28)"
      ]
     },
     "execution_count": 30,
     "metadata": {},
     "output_type": "execute_result"
    }
   ],
   "source": [
    "(x_train, x_test), (y_train, y_test) = mnist.load_data()"
   ]
  },
  {
   "cell_type": "code",
   "execution_count": null,
   "metadata": {},
   "outputs": [],
   "source": [
    "class LeNET():\n",
    "    "
   ]
  },
  {
   "cell_type": "code",
   "execution_count": null,
   "metadata": {},
   "outputs": [
    {
     "data": {
      "text/plain": [
       "'1'"
      ]
     },
     "execution_count": 36,
     "metadata": {},
     "output_type": "execute_result"
    }
   ],
   "source": [
    "a = {\"key\": \"a\", \"keys\": \"b\"}\n"
   ]
  }
 ],
 "metadata": {
  "kernelspec": {
   "display_name": "base",
   "language": "python",
   "name": "python3"
  },
  "language_info": {
   "codemirror_mode": {
    "name": "ipython",
    "version": 3
   },
   "file_extension": ".py",
   "mimetype": "text/x-python",
   "name": "python",
   "nbconvert_exporter": "python",
   "pygments_lexer": "ipython3",
   "version": "3.8.20"
  }
 },
 "nbformat": 4,
 "nbformat_minor": 2
}
