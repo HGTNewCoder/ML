{
 "cells": [
  {
   "cell_type": "code",
   "execution_count": 1,
   "metadata": {},
   "outputs": [],
   "source": [
    "from __future__ import division, print_function, unicode_literals\n",
    "import numpy as np\n",
    "import matplotlib.pyplot as plt\n",
    "\n",
    "from sklearn import datasets, linear_model\n",
    "\n",
    "import tensorflow as tf\n"
   ]
  },
  {
   "cell_type": "markdown",
   "metadata": {},
   "source": [
    "Manually"
   ]
  },
  {
   "cell_type": "code",
   "execution_count": null,
   "metadata": {},
   "outputs": [],
   "source": [
    "\n",
    "#Data\n",
    "#H = np.array([[147, 150, 153, 158, 163, 168, 170, 173, 175, 178, 180, 183]]).T\n",
    "#W = np.array([[49, 50, 51, 54, 58, 60, 62, 63, 64, 66, 67, 68]]).T\n",
    "H = np.array([[-5. , -4.5, -4. , -3.5, -3. , -2.5, -2. , -1.5, -1. , -0.5,  0. , 0.5,  1. ,  1.5,  2. ,  2.5,  3. ,  3.5,  4. ,  4.5]])\n",
    "#W = np.array([[25.40729498, 25.29574425, 23.90521496, 20.30689771, 19.39317867, 13.14535337, 17.45262087,  9.96358651, 14.85946008, 11.07613586, 10.84981277,  9.82826791,  8.5280891 ,  1.5692666 ,  2.43431479, -0.92917028, -0.33752305, -2.52360409, -6.00860186, -5.92781816]])\n",
    "W = np.array([[25.4, 25.2, 23.9, 20.3, 19.3, 13.1, 17.4,  9.9, 14.8, 11.0, 10.8,  9.8,  8.5 ,  1.5 ,  2.4, -0.9, -0.3, -2.5, -6.0, -5.9]])\n",
    "\n",
    "#Build Linear Regression Manually\n",
    "Xbar = np.concatenate((np.ones((H.shape[0], 1)), H), axis = 1) #12 2\n",
    "A = Xbar.T@Xbar\n",
    "b = Xbar.T@W\n",
    "w = np.linalg.pinv(A)@b\n",
    "\n",
    "#Init LR line\n",
    "x0 = np.linspace(-6, 6, 10)\n",
    "#x0 = np.linspace(140, 190, 20)\n",
    "y0 = w[0][0] + x0*w[1][0]\n",
    "\n",
    "print(w[0][0])\n",
    "print(w[1][0])\n",
    "\n",
    "plt.plot(x0, y0, marker = 'o')\n",
    "plt.plot(H.T, W.T, 'ro')\n",
    "plt.xlabel('Height(cm)')\n",
    "plt.ylabel('Weight(kg)')\n",
    "plt.show()"
   ]
  },
  {
   "cell_type": "code",
   "execution_count": null,
   "metadata": {},
   "outputs": [],
   "source": []
  },
  {
   "cell_type": "markdown",
   "metadata": {},
   "source": [
    "Skit"
   ]
  },
  {
   "cell_type": "code",
   "execution_count": null,
   "metadata": {},
   "outputs": [],
   "source": [
    "\n",
    "#Data\n",
    "H = np.array([[147, 150, 153, 158, 163, 168, 170, 173, 175, 178, 180, 183]]).T\n",
    "W = np.array([[49, 50, 51, 54, 58, 60, 62, 63, 64, 66, 67, 68]]).T\n",
    "Xbar = np.concatenate((np.ones((H.shape[0], 1)), H), axis = 1) #12 2\n",
    "\n",
    "reg = linear_model.LinearRegression(fit_intercept=False)\n",
    "reg.fit(Xbar, W)\n",
    "coe = reg.coef_\n",
    "x0 = np.linspace(145, 185, 2)\n",
    "y0 = coe[0][0] + x0*coe[0][1]\n",
    "\n",
    "print(coe[0])\n",
    "plt.plot(x0, y0, marker = 'o')\n",
    "plt.plot(H.T, W.T, 'ro')\n",
    "plt.axis([140, 190, 45, 75])\n",
    "plt.xlabel('Height(cm)')\n",
    "plt.ylabel('Weight(kg)')\n",
    "plt.show()"
   ]
  },
  {
   "cell_type": "code",
   "execution_count": null,
   "metadata": {},
   "outputs": [],
   "source": [
    "H = np.array([[147, 150, 153, 158, 163, 168, 170, 173, 175, 178, 180, 183]]).T # (12,1)\n",
    "W = np.array([[49, 50, 51, 54, 58, 60, 62, 63, 64, 66, 67, 68]]).T # (12,1)\n",
    "\n",
    "weight = tf.Variable(tf.convert_to_tensor(np.array([30, 1])))\n",
    "training_ephoch = 100\n",
    "lr = 0.001\n",
    "for i in range (ephoch):\n",
    "    with tf.GradientTape() as g:\n",
    "        y = tf.add(tf.multiply(W[0], H), W[1])\n",
    "        #loss = tf.keras.losses.MSE(y, W)\n",
    "        #loss = tf.Variable(((weight[0]*H + weight[1]) * (weight[0]*H + weight[1]) - W)/2)\n",
    "        loss = tf.reduce_sum(tf.pow(y-W, 2)) / (2 * 12)\n",
    "    weight.assign_sub(lr*g.gradient(loss, weight))\n",
    "print(weight)\n",
    "\n",
    "x0 = np.linspace(145, 185, 2)\n",
    "y0 = x0*weight[0][0] + x0*weight[0][1]\n",
    "\n",
    "plt.plot(x0, y0, marker = 'o')\n",
    "plt.plot(H.T, W.T, 'ro')\n",
    "plt.axis([140, 190, 45, 75])\n",
    "plt.xlabel('Height(cm)')\n",
    "plt.ylabel('Weight(kg)')\n",
    "plt.show()"
   ]
  },
  {
   "cell_type": "code",
   "execution_count": 4,
   "metadata": {},
   "outputs": [
    {
     "data": {
      "image/png": "[encoded data removed]",
      "text/plain": [
       "<Figure size 640x480 with 1 Axes>"
      ]
     },
     "metadata": {},
     "output_type": "display_data"
    },
    {
     "name": "stdout",
     "output_type": "stream",
     "text": [
      "WARNING:tensorflow:From C:\\Users\\thinh\\AppData\\Local\\Temp\\ipykernel_7332\\1066110771.py:19: The name tf.placeholder is deprecated. Please use tf.compat.v1.placeholder instead.\n",
      "\n"
     ]
    },
    {
     "ename": "RuntimeError",
     "evalue": "tf.placeholder() is not compatible with eager execution.",
     "output_type": "error",
     "traceback": [
      "\u001b[1;31m---------------------------------------------------------------------------\u001b[0m",
      "\u001b[1;31mRuntimeError\u001b[0m                              Traceback (most recent call last)",
      "Cell \u001b[1;32mIn[4], line 19\u001b[0m\n\u001b[0;32m     16\u001b[0m plt\u001b[38;5;241m.\u001b[39mtitle(\u001b[38;5;124m\"\u001b[39m\u001b[38;5;124mTraining Data\u001b[39m\u001b[38;5;124m\"\u001b[39m)\n\u001b[0;32m     17\u001b[0m plt\u001b[38;5;241m.\u001b[39mshow()\n\u001b[1;32m---> 19\u001b[0m X \u001b[38;5;241m=\u001b[39m \u001b[43mtf\u001b[49m\u001b[38;5;241;43m.\u001b[39;49m\u001b[43mcompat\u001b[49m\u001b[38;5;241;43m.\u001b[39;49m\u001b[43mv1\u001b[49m\u001b[38;5;241;43m.\u001b[39;49m\u001b[43mplaceholder\u001b[49m\u001b[43m(\u001b[49m\u001b[38;5;124;43m\"\u001b[39;49m\u001b[38;5;124;43mfloat\u001b[39;49m\u001b[38;5;124;43m\"\u001b[39;49m\u001b[43m)\u001b[49m\n\u001b[0;32m     20\u001b[0m Y \u001b[38;5;241m=\u001b[39m tf\u001b[38;5;241m.\u001b[39mcompat\u001b[38;5;241m.\u001b[39mv1\u001b[38;5;241m.\u001b[39mplaceholder(\u001b[38;5;124m\"\u001b[39m\u001b[38;5;124mfloat\u001b[39m\u001b[38;5;124m\"\u001b[39m)\n\u001b[0;32m     22\u001b[0m W \u001b[38;5;241m=\u001b[39m tf\u001b[38;5;241m.\u001b[39mVariable(np\u001b[38;5;241m.\u001b[39mrandom\u001b[38;5;241m.\u001b[39mrandn(), name \u001b[38;5;241m=\u001b[39m \u001b[38;5;124m\"\u001b[39m\u001b[38;5;124mW\u001b[39m\u001b[38;5;124m\"\u001b[39m)\n",
      "File \u001b[1;32m~\\AppData\\Local\\Packages\\PythonSoftwareFoundation.Python.3.12_qbz5n2kfra8p0\\LocalCache\\local-packages\\Python312\\site-packages\\tensorflow\\python\\ops\\array_ops.py:2991\u001b[0m, in \u001b[0;36mplaceholder\u001b[1;34m(dtype, shape, name)\u001b[0m\n\u001b[0;32m   2944\u001b[0m \u001b[38;5;250m\u001b[39m\u001b[38;5;124;03m\"\"\"Inserts a placeholder for a tensor that will be always fed.\u001b[39;00m\n\u001b[0;32m   2945\u001b[0m \n\u001b[0;32m   2946\u001b[0m \u001b[38;5;124;03m**Important**: This tensor will produce an error if evaluated. Its value must\u001b[39;00m\n\u001b[1;32m   (...)\u001b[0m\n\u001b[0;32m   2988\u001b[0m \u001b[38;5;124;03m@end_compatibility\u001b[39;00m\n\u001b[0;32m   2989\u001b[0m \u001b[38;5;124;03m\"\"\"\u001b[39;00m\n\u001b[0;32m   2990\u001b[0m \u001b[38;5;28;01mif\u001b[39;00m context\u001b[38;5;241m.\u001b[39mexecuting_eagerly():\n\u001b[1;32m-> 2991\u001b[0m   \u001b[38;5;28;01mraise\u001b[39;00m \u001b[38;5;167;01mRuntimeError\u001b[39;00m(\u001b[38;5;124m\"\u001b[39m\u001b[38;5;124mtf.placeholder() is not compatible with \u001b[39m\u001b[38;5;124m\"\u001b[39m\n\u001b[0;32m   2992\u001b[0m                      \u001b[38;5;124m\"\u001b[39m\u001b[38;5;124meager execution.\u001b[39m\u001b[38;5;124m\"\u001b[39m)\n\u001b[0;32m   2994\u001b[0m \u001b[38;5;28;01mreturn\u001b[39;00m gen_array_ops\u001b[38;5;241m.\u001b[39mplaceholder(dtype\u001b[38;5;241m=\u001b[39mdtype, shape\u001b[38;5;241m=\u001b[39mshape, name\u001b[38;5;241m=\u001b[39mname)\n",
      "\u001b[1;31mRuntimeError\u001b[0m: tf.placeholder() is not compatible with eager execution."
     ]
    }
   ],
   "source": [
    "   \n",
    "# Generating random linear data\n",
    "# There will be 50 data points ranging from 0 to 50\n",
    "x = np.linspace(0, 50, 50)\n",
    "y = np.linspace(0, 50, 50)\n",
    " \n",
    "# Adding noise to the random linear data\n",
    "x += np.random.uniform(-4, 4, 50)\n",
    "y += np.random.uniform(-4, 4, 50)\n",
    " \n",
    "n = len(x) # Number of data points\n",
    "   \n",
    "# Plot of Training Data\n",
    "plt.scatter(x, y)\n",
    "plt.xlabel('x')\n",
    "plt.ylabel('y')\n",
    "plt.title(\"Training Data\")\n",
    "plt.show()\n",
    "   \n",
    "X = tf.compat.v1.placeholder(\"float\")\n",
    "Y = tf.compat.v1.placeholder(\"float\")\n",
    "   \n",
    "W = tf.Variable(np.random.randn(), name = \"W\")\n",
    "b = tf.Variable(np.random.randn(), name = \"b\")\n",
    "   \n",
    "learning_rate = 0.01\n",
    "training_epochs = 1000\n",
    "   \n",
    "# Hypothesis\n",
    "y_pred = tf.add(tf.multiply(X, W), b)\n",
    " \n",
    "# Mean Squared Error Cost Function\n",
    "cost = tf.reduce_sum(tf.pow(y_pred-Y, 2)) / (2 * n)\n",
    " \n",
    "# Gradient Descent Optimizer\n",
    "optimizer = tf.train.GradientDescentOptimizer(learning_rate).minimize(cost)\n",
    " \n",
    "# Global Variables Initializer\n",
    "init = tf.global_variables_initializer()\n",
    "\n",
    "# Starting the Tensorflow Session\n",
    "with tf.Session() as sess:\n",
    "     \n",
    "    # Initializing the Variables\n",
    "    sess.run(init)\n",
    "     \n",
    "    # Iterating through all the epochs\n",
    "    for epoch in range(training_epochs):\n",
    "         \n",
    "        # Feeding each data point into the optimizer using Feed Dictionary\n",
    "        for (_x, _y) in zip(x, y):\n",
    "            sess.run(optimizer, feed_dict = {X : _x, Y : _y})\n",
    "         \n",
    "        # Displaying the result after every 50 epochs\n",
    "        if (epoch + 1) % 50 == 0:\n",
    "            # Calculating the cost a every epoch\n",
    "            c = sess.run(cost, feed_dict = {X : x, Y : y})\n",
    "            print(\"Epoch\", (epoch + 1), \": cost =\", c, \"W =\", sess.run(W), \"b =\", sess.run(b))\n",
    "     \n",
    "    # Storing necessary values to be used outside the Session\n",
    "    training_cost = sess.run(cost, feed_dict ={X: x, Y: y})\n",
    "    weight = sess.run(W)\n",
    "    bias = sess.run(b)\n",
    "\n",
    "       \n",
    "# Calculating the predictions\n",
    "predictions = weight * x + bias\n",
    "print(\"Training cost =\", training_cost, \"Weight =\", weight, \"bias =\", bias, '\\n')\n",
    "\n",
    "  \n",
    "# Plotting the Results\n",
    "plt.plot(x, y, 'ro', label ='Original data')\n",
    "plt.plot(x, predictions, label ='Fitted line')\n",
    "plt.title('Linear Regression Result')\n",
    "plt.legend()\n",
    "plt.show()"
   ]
  }
 ],
 "metadata": {
  "kernelspec": {
   "display_name": "Python 3",
   "language": "python",
   "name": "python3"
  },
  "language_info": {
   "codemirror_mode": {
    "name": "ipython",
    "version": 3
   },
   "file_extension": ".py",
   "mimetype": "text/x-python",
   "name": "python",
   "nbconvert_exporter": "python",
   "pygments_lexer": "ipython3",
   "version": "3.12.7"
  }
 },
 "nbformat": 4,
 "nbformat_minor": 2
}
