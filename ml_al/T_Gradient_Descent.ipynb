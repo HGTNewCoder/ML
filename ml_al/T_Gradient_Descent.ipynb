{
  "cells": [
    {
      "cell_type": "markdown",
      "metadata": {
        "id": "a4VmJzGmnJrc"
      },
      "source": [
        "# THUẬT TOÁN GRADIENT DESCENT\n",
        "\n",
        "Đây là thuật toán CỰC KỲ QUAN TRỌNG của deep learning. Tất cả các mô hình máy học deep learning hiện giờ đều dựa trên tư tưởng của thuật toán này.\n",
        "\n",
        "## 1. Các bước cài đặt thuật toán Gradient Descent\n",
        "**Bước 0**: import các thư viện cần thiết để tính toán như `numpy` và vẽ biểu đồ như `matplotlib`"
      ]
    },
    {
      "cell_type": "code",
      "execution_count": null,
      "metadata": {
        "id": "qFMJLKncnm1t"
      },
      "outputs": [],
      "source": [
        "import matplotlib.pyplot as plt\n",
        "import numpy as np"
      ]
    },
    {
      "cell_type": "markdown",
      "metadata": {
        "id": "WUj_8yJHn5po"
      },
      "source": [
        "**Bước 1**: Cài đặt các hàm cần tìm giá trị nhỏ nhất `f(x)` và đạo hàm `daoham_f:(x)`"
      ]
    },
    {
      "cell_type": "code",
      "execution_count": null,
      "metadata": {
        "id": "mz8HaBLVn5x9"
      },
      "outputs": [],
      "source": [
        "def f(x) :\n",
        "   # TODO 1: cài đặt hàm để trả kết quả về giá trị: 3x^2 - 7x + 5\n",
        "   result = None\n",
        "   return result"
      ]
    },
    {
      "cell_type": "code",
      "execution_count": null,
      "metadata": {
        "id": "zYEwT23foMHv"
      },
      "outputs": [],
      "source": [
        "def daoham_f(x) :\n",
        "   # TODO 2: cài đặt hàm để trả kết quả về đạo hàm của g(x)\n",
        "   result = None\n",
        "   return result"
      ]
    },
    {
      "cell_type": "markdown",
      "metadata": {
        "id": "x1gDYdS6n526"
      },
      "source": [
        "**Bước 2**: Cài đặt chương trình để vẽ biểu đồ trực quan của hàm `f(x)`"
      ]
    },
    {
      "cell_type": "code",
      "execution_count": null,
      "metadata": {
        "id": "pTJGYPbjn571"
      },
      "outputs": [],
      "source": [
        "# Tạo dữ liệu của hàm f() và vẽ lên biểu đồ\n",
        "a = np.arange(-10, 12, 0.1)\n",
        "plt.plot(a, f(a))"
      ]
    },
    {
      "cell_type": "markdown",
      "metadata": {
        "id": "DKtAOhQSn5_S"
      },
      "source": [
        "**Bước 3**: Khởi tạo biến `x` tại một vị trí ngẫu nhiên. Đây sẽ là điểm xuất phát để thuật toán Gradient Descent bắt đầu **thăm dò** giá trị điểm cực tiểu"
      ]
    },
    {
      "cell_type": "code",
      "execution_count": null,
      "metadata": {
        "id": "AzH4NSgFoXFp"
      },
      "outputs": [],
      "source": [
        "# Khởi tạo x ngẫu nhiên\n",
        "x = 10\n",
        "# Khởi tạo tham số cho thuật toán Gradient Descent\n",
        "alpha = 0.1"
      ]
    },
    {
      "cell_type": "markdown",
      "metadata": {
        "id": "XeD8jP2qoXSb"
      },
      "source": [
        "**Bước 4**: Cài đặt vòng lặp để liên tục cập nhật biến `x`"
      ]
    },
    {
      "cell_type": "code",
      "execution_count": null,
      "metadata": {
        "id": "8gnCfqDQoXXK"
      },
      "outputs": [],
      "source": [
        "while True:\n",
        "  # TODO 3: cài đặt bước cập nhật giá trị x mới\n",
        "  x = None\n",
        "  # TODO 4: cài đặt điều kiện để thuật toán có thể dừng\n"
      ]
    },
    {
      "cell_type": "markdown",
      "metadata": {
        "id": "BOWUHMSJoXa-"
      },
      "source": [
        "Sau khi vòng lặp thăm dò biến `x` dừng lại, ta kiểm tra xem `x` cuối cùng này là bao nhiêu? Có đúng là tại điểm cực tiểu hay không?"
      ]
    },
    {
      "cell_type": "code",
      "execution_count": null,
      "metadata": {
        "id": "RqzsbLsKoX_Z"
      },
      "outputs": [],
      "source": []
    },
    {
      "cell_type": "markdown",
      "metadata": {
        "id": "cERgWmjXpd4f"
      },
      "source": [
        "Cuối cùng, đưa tất cả các đoạn code trên vào cùng một đoạn chương trình"
      ]
    },
    {
      "cell_type": "code",
      "execution_count": null,
      "metadata": {
        "id": "ocJizdIU3PfS"
      },
      "outputs": [],
      "source": [
        "import matplotlib.pyplot as plt\n",
        "import numpy as np\n",
        "\n",
        "def f(x) :\n",
        "   # TODO 1: cài đặt hàm để trả kết quả về giá trị: 3x^2 - 7x + 5\n",
        "   result = None\n",
        "   return result\n",
        "\n",
        "def daoham_f(x) :\n",
        "   # TODO 2: cài đặt hàm để trả kết quả về đạo hàm của g(x)\n",
        "   result = None\n",
        "   return result\n",
        "\n",
        "# Tạo dữ liệu của hàm f() và vẽ lên biểu đồ\n",
        "a = np.arange(-10, 12, 0.1)\n",
        "plt.plot(a, f(a))\n",
        "\n",
        "alpha = 0.1\n",
        "x = 10\n",
        "\n",
        "# Ve diem khoi tao\n",
        "plt.plot(x, f(x), 'ro') # red voi item la chu 'o'\n",
        "\n",
        "\n",
        "while True:\n",
        "  # TODO 3: cài đặt bước cập nhật giá trị x mới\n",
        "  x = x - alpha*daoham_f(x)\n",
        "  # TODO 4: cài đặt điều kiện để thuật toán có thể dừng\n",
        "  if abs(g(x)) < 0.000001:\n",
        "    break\n",
        "\n",
        "print('Diem de ham so dat gia tri nho nhat la: ' , x)\n",
        "\n",
        "plt.plot(x, f(x), 'b*') # blue voi item la chu '*'"
      ]
    },
    {
      "cell_type": "markdown",
      "metadata": {
        "id": "ItxIyep-poqG"
      },
      "source": [
        "## 2. Một số thử nghiệm trên Gradient Descent"
      ]
    },
    {
      "cell_type": "markdown",
      "metadata": {
        "id": "Evn-UQmLp3r1"
      },
      "source": [
        "### 2.1 Thử thay đổi điểm khởi tạo `x` bằng con số rất lớn, ví dụ: 12345"
      ]
    },
    {
      "cell_type": "code",
      "execution_count": null,
      "metadata": {
        "id": "bXuzDxSZp3z8"
      },
      "outputs": [],
      "source": [
        "import matplotlib.pyplot as plt\n",
        "import numpy as np\n",
        "\n",
        "def f(x) :\n",
        "   # TODO 1: cài đặt hàm để trả kết quả về giá trị: 3x^2 - 7x + 5\n",
        "   result = None\n",
        "   return result\n",
        "\n",
        "def g(x) :\n",
        "   # TODO 2: cài đặt hàm để trả kết quả về đạo hàm của g(x)\n",
        "   result = None\n",
        "   return result\n",
        "\n",
        "alpha = 0.1\n",
        "x = 10\n",
        "\n",
        "while True:\n",
        "  # TODO 3: cài đặt bước cập nhật giá trị x mới\n",
        "  x = x - alpha*g(x)\n",
        "  # TODO 4:\n",
        "  if abs(g(x)) < 0.000001:\n",
        "    break\n",
        "\n",
        "print('Diem de ham so dat gia tri nho nhat la: ' , x)"
      ]
    },
    {
      "cell_type": "markdown",
      "metadata": {
        "id": "hwqE8X-Fp34m"
      },
      "source": [
        "### 2.2 Thử thay đổi các hàm `f(x)` khác\n",
        "Hàm thử nghiệm này có 2 điểm cục bộ thì điều gì sẽ xảy ra?"
      ]
    },
    {
      "cell_type": "code",
      "execution_count": null,
      "metadata": {
        "id": "CKoNYPCjp39g"
      },
      "outputs": [],
      "source": [
        "import matplotlib.pyplot as plt\n",
        "import numpy as np\n",
        "\n",
        "def f(x) :\n",
        "   # TODO 1: cài đặt hàm để trả kết quả về giá trị: x^4 - 3x^2 + x + 1\n",
        "   result = None\n",
        "   return result\n",
        "\n",
        "def daoham_f(x) :\n",
        "   # TODO 2: cài đặt hàm để trả kết quả về đạo hàm của g(x)\n",
        "   result = None\n",
        "   return result\n",
        "\n",
        "# Tạo dữ liệu của hàm f() và vẽ lên biểu đồ\n",
        "a = np.arange(-10, 12, 0.1)\n",
        "plt.plot(a, f(a))\n",
        "\n",
        "alpha = 0.1\n",
        "x = 10\n",
        "\n",
        "# Ve diem khoi tao\n",
        "plt.plot(x, f(x), 'ro') # red voi item la chu 'o'\n",
        "\n",
        "while True:\n",
        "  x = x - alpha*daoham_f(x)\n",
        "  if abs(g(x)) < 0.000001:\n",
        "    break\n",
        "\n",
        "print('Diem de ham so dat gia tri nho nhat la: ' , x)\n",
        "\n",
        "plt.plot(x, f(x), 'b*') # blue voi item la chu '*'"
      ]
    },
    {
      "cell_type": "markdown",
      "metadata": {
        "id": "yGpkSClOtZ6N"
      },
      "source": [
        "Tham khảo thêm bài [Momentum](https://colab.research.google.com/drive/11mq9tr86PeioFiVQnbMdbM99SxD13O4a)"
      ]
    },
    {
      "cell_type": "markdown",
      "metadata": {
        "id": "-4yrKf4Vp4BJ"
      },
      "source": [
        "## 2.3 Thử nghiệm với các tham số `alpha` khác nhau\n",
        "Thử nghiệm với `alpha` lớn và nhỏ ta xem điều gì sẽ xảy ra"
      ]
    },
    {
      "cell_type": "code",
      "execution_count": null,
      "metadata": {
        "id": "JcLaZMrpp4FF"
      },
      "outputs": [],
      "source": [
        "import matplotlib.pyplot as plt\n",
        "import numpy as np\n",
        "\n",
        "def f(x) :\n",
        "   # TODO 1: cài đặt hàm để trả kết quả về giá trị: 3x^2 - 7x + 5\n",
        "   result = None\n",
        "   return result\n",
        "\n",
        "def daoham_f(x) :\n",
        "   # TODO 2: cài đặt hàm để trả kết quả về đạo hàm của g(x)\n",
        "   result = None\n",
        "   return result\n",
        "\n",
        "alpha = 0.1\n",
        "x = 10\n",
        "\n",
        "# Ve diem khoi tao\n",
        "plt.plot(x, f(x), 'ro') # red voi item la chu 'o'\n",
        "\n",
        "while True:\n",
        "  x = x - alpha*daoham_f(x)\n",
        "  if abs(g(x)) < 0.000001:\n",
        "    break\n",
        "\n",
        "print('Diem de ham so dat gia tri nho nhat la: ' , x)"
      ]
    },
    {
      "cell_type": "markdown",
      "metadata": {
        "id": "WbsCIerEs0mq"
      },
      "source": [
        "## 2.4 Nếu như muốn tìm điểm cực đại thì ta làm thế nào?"
      ]
    },
    {
      "cell_type": "code",
      "execution_count": null,
      "metadata": {
        "id": "vg2yj60Ys0F1"
      },
      "outputs": [],
      "source": [
        "import matplotlib.pyplot as plt\n",
        "import numpy as np\n",
        "\n",
        "def f(x) :\n",
        "   # TODO 1: cài đặt hàm để trả kết quả về giá trị: -3x^2 + 7x - 5\n",
        "   result = None\n",
        "   return result\n",
        "\n",
        "def daoham_f(x) :\n",
        "   # TODO 2: cài đặt hàm để trả kết quả về đạo hàm của g(x)\n",
        "   result = None\n",
        "   return result\n",
        "\n",
        "alpha = 0.1\n",
        "x = 10\n",
        "\n",
        "# Ve diem khoi tao\n",
        "plt.plot(x, f(x), 'ro') # red voi item la chu 'o'\n",
        "\n",
        "while True:\n",
        "  # TODO 3: CHỈNH SỬA lại thuật toán lặp để cập nhật theo hướng tìm điểm cực đại\n",
        "  x = None\n",
        "  # TODO 4: Cài đặt điều kiện dừng\n",
        "  if abs(g(x)) < 0.000001:\n",
        "    break\n",
        "\n",
        "print('Diem de ham so dat gia tri nho nhat la: ' , x)"
      ]
    },
    {
      "cell_type": "markdown",
      "metadata": {
        "id": "o2TWXC8Dp4Sa"
      },
      "source": [
        "## 3. Gradient Descent trong mô hình máy học đầu tiên: Linear Regression"
      ]
    },
    {
      "cell_type": "code",
      "execution_count": 1,
      "metadata": {
        "id": "I63mqRV2F_Ik"
      },
      "outputs": [],
      "source": [
        "import numpy as np\n",
        "# Khởi tạo dữ liệu\n",
        "x = np.arange(1, 10, 0.5)\n",
        "y = -9*x + 4 + np.random.normal(0, 6, x.shape)\n",
        "\n",
        "# plt.plot(x, y, 'bo')"
      ]
    },
    {
      "cell_type": "code",
      "execution_count": 2,
      "metadata": {
        "id": "auODNND9sKOn"
      },
      "outputs": [
        {
          "name": "stdout",
          "output_type": "stream",
          "text": [
            "Gia tri toi uu cua theta0:  1.7274069115730457\n",
            "Gia tri toi uu cua theta1:  -8.940851603104088\n"
          ]
        }
      ],
      "source": [
        "# Cài đặt thuật toán Gradient Descent\n",
        "alpha = .001\n",
        "theta0 = 100\n",
        "theta1 = -200\n",
        "# plt.xlim(1, 10)\n",
        "# plt.ylim(-80, 0)\n",
        "\n",
        "# plt.plot([1, 10], [theta0+1*theta1, theta0+10*theta1])\n",
        "\n",
        "while True:\n",
        "  theta0 = theta0 - alpha*np.mean(theta1*x+theta0 - y) # y~ - y\n",
        "  theta1 = theta1 - alpha*np.mean(x*(theta1*x+theta0 - y)) # x(y~ - y)\n",
        "  if abs(np.mean(theta1*x+theta0 - y)) + abs(np.mean(x*(theta1*x+theta0 - y))) < 0.001:\n",
        "    break\n",
        "\n",
        "print('Gia tri toi uu cua theta0: ', theta0)\n",
        "print('Gia tri toi uu cua theta1: ', theta1)\n",
        "\n",
        "\n",
        "# plt.plot([1, 10], [theta0+1*theta1, theta0+10*theta1])"
      ]
    },
    {
      "cell_type": "markdown",
      "metadata": {
        "id": "DSbSAoMasYPh"
      },
      "source": [
        "## 4. Deep learning framework\n",
        "Để đơn giản, các Deep learning framework đã thiết kế để tự động chạy thuật toán Gradient Descent, bạn sẽ không còn đau đầu ngồi tính Đạo hàm, Cài đặt các bước cập nhật biến số cần tối ưu nữa."
      ]
    },
    {
      "cell_type": "code",
      "execution_count": null,
      "metadata": {
        "id": "I7fHLz8UsXiX"
      },
      "outputs": [],
      "source": [
        "# Cấu trúc gợi ý để cài đặt một mô hình với deep learning framework\n",
        "\n",
        "class MyModel:\n",
        "  # constructor\n",
        "  def __init__(self):\n",
        "    return None\n",
        "\n",
        "  # Implement architecture of the model\n",
        "  def build(self):\n",
        "    return None\n",
        "\n",
        "  # Train the defined model with training and validation data\n",
        "  def train(self):\n",
        "    return None\n",
        "\n",
        "  # Save the trained model to file\n",
        "  def save(self, model_path):\n",
        "    return None\n",
        "\n",
        "  # Load pretrained model from file\n",
        "  def load(self):\n",
        "    return None\n",
        "  # Visualize your model\n",
        "  def summary(self):\n",
        "    return None\n",
        "\n",
        "  # Apply your model with new input data\n",
        "  def predict(self):\n",
        "    return None"
      ]
    },
    {
      "cell_type": "markdown",
      "metadata": {
        "id": "z-qwZl_dvHFm"
      },
      "source": [
        "Đến đây, chúng ta bắt đầu tiến hành cài đặt mô hình"
      ]
    },
    {
      "cell_type": "code",
      "execution_count": null,
      "metadata": {
        "id": "MFzoTmUet8X4"
      },
      "outputs": [],
      "source": [
        "from keras.layers import Input, Dense\n",
        "from keras import Model\n",
        "import tensorflow as tf\n",
        "from keras.models import load_model\n",
        "\n",
        "# Linear Regression\n",
        "class LinearRegression:\n",
        "  def __init__(self): # Tạm thời không sử dụng\n",
        "    return None\n",
        "\n",
        "  # Từ nay về sau, tất cả các mô hình sẽ được cài trong lớp phương thức này\n",
        "  def build(self, input_dim):\n",
        "    # TODO 1: Cài đặt input\n",
        "    input = None # input chính là `x` trong mô hình\n",
        "    # TODO 1: Cài đặt output\n",
        "    output = None  # output chính là `y~` trong mô hình\n",
        "    self.model = Model(input, output)\n",
        "    return self.model\n",
        "\n",
        "  def train(self, x_train, y_train):\n",
        "    opt = tf.keras.optimizers.SGD(learning_rate=0.1) # Stochastic Gradient Descent\n",
        "    self.model.compile(optimizer=opt, loss='mse') # MSE: mean squared error or L2 distance # (y~ - y)^2\n",
        "    return self.model.fit(x_train, y_train, epochs=30)\n",
        "\n",
        "  def save(self, model_file):\n",
        "    return self.model.save(model_file)\n",
        "\n",
        "  def load(self, model_file):\n",
        "    self.model = load_model(model_file)\n",
        "\n",
        "  def summary(self):\n",
        "    self.model.summary()\n",
        "\n",
        "  def predict(self, x_test):\n",
        "    return self.model.predict(x_test)\n",
        "\n",
        "  def get_weights(self):\n",
        "    return self.model.layers[1].get_weights()"
      ]
    },
    {
      "cell_type": "markdown",
      "metadata": {
        "id": "eR5oaGsVuD8R"
      },
      "source": [
        "Tạo dữ liệu để thử nghiệm"
      ]
    },
    {
      "cell_type": "code",
      "execution_count": null,
      "metadata": {
        "id": "G5DMXO-guGwl"
      },
      "outputs": [],
      "source": [
        "import numpy as np\n",
        "import matplotlib.pyplot as plt\n",
        "\n",
        "# Tạo dữ liệu thử nghiệm cho mô hình Linear Regression\n",
        "x = np.arange(-5, 5, 0.5)\n",
        "n = len(x) # số lượng mẫu dữ liệu\n",
        "\n",
        "std = 2 # tham số thể hiện mức độ NHIỄU nhiều hay ít\n",
        "y = -3*x + 10 + np.random.normal(0, std, n)  # Kỳ vọng các biến theta trả về theta = [[10],[-3]]\n",
        "\n",
        "\n",
        "# Trực quan hóa dữ liệu\n",
        "plt.plot(x, y, 'ro')\n",
        "plt.show()"
      ]
    },
    {
      "cell_type": "code",
      "execution_count": null,
      "metadata": {
        "id": "avRVPcxouIU-"
      },
      "outputs": [],
      "source": [
        "# TODO 3: Khởi tạo mô hình với biến `lin_reg`\n"
      ]
    },
    {
      "cell_type": "code",
      "execution_count": null,
      "metadata": {
        "id": "zZfEH-FrueK9"
      },
      "outputs": [],
      "source": [
        "# TODO 4: Huấn luyện mô hình\n"
      ]
    },
    {
      "cell_type": "code",
      "execution_count": null,
      "metadata": {
        "id": "rmUFmMfUuNyo"
      },
      "outputs": [],
      "source": [
        "# Show loss over time\n",
        "plt.plot(hist.history['loss'])\n",
        "#plt.plot(hist.history['val_loss'])\n",
        "plt.title('model loss')\n",
        "plt.ylabel('loss')\n",
        "plt.xlabel('epoch')\n",
        "#plt.legend(['loss', 'validation'])\n",
        "plt.show()"
      ]
    },
    {
      "cell_type": "code",
      "execution_count": null,
      "metadata": {
        "id": "SrEq11PRuR2P"
      },
      "outputs": [],
      "source": [
        "# Lưu mô hình"
      ]
    },
    {
      "cell_type": "code",
      "execution_count": null,
      "metadata": {
        "id": "uVOVtwDuuTyx"
      },
      "outputs": [],
      "source": [
        "# Load mô hình lên"
      ]
    },
    {
      "cell_type": "code",
      "execution_count": null,
      "metadata": {
        "id": "c4uok8bauVjj"
      },
      "outputs": [],
      "source": [
        "# Kiểm tra lại tham số"
      ]
    }
  ],
  "metadata": {
    "colab": {
      "provenance": []
    },
    "kernelspec": {
      "display_name": "Python 3",
      "name": "python3"
    },
    "language_info": {
      "codemirror_mode": {
        "name": "ipython",
        "version": 3
      },
      "file_extension": ".py",
      "mimetype": "text/x-python",
      "name": "python",
      "nbconvert_exporter": "python",
      "pygments_lexer": "ipython3",
      "version": "3.12.5"
    }
  },
  "nbformat": 4,
  "nbformat_minor": 0
}
