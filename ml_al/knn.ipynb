{
 "cells": [
  {
   "cell_type": "code",
   "execution_count": 107,
   "id": "06129a93",
   "metadata": {},
   "outputs": [],
   "source": [
    "import numpy as np\n",
    "import matplotlib.pyplot as plt\n",
    "import seaborn as sns\n",
    "\n",
    "from sklearn.datasets import load_iris\n",
    "from sklearn.neighbors import KNeighborsClassifier\n",
    "from sklearn.metrics import accuracy_score\n",
    "from sklearn.model_selection import train_test_split\n",
    "\n",
    "from collections import Counter\n"
   ]
  },
  {
   "cell_type": "code",
   "execution_count": 137,
   "id": "59227f72",
   "metadata": {},
   "outputs": [],
   "source": [
    "iris = load_iris()\n",
    "iris_X = iris.data\n",
    "iris_Y = iris.target\n",
    "x_train, x_test, y_train, y_test = train_test_split(iris_X, iris_Y, train_size=0.8)"
   ]
  },
  {
   "cell_type": "code",
   "execution_count": null,
   "id": "15dd9e48",
   "metadata": {},
   "outputs": [
    {
     "name": "stdout",
     "output_type": "stream",
     "text": [
      "0.9333333333333333\n",
      "[2 1 1 0 1 1 1 0 2 1 1 2 0 0 0 0 1 1 2 1 0 0 2 1 0 2 0 2 2 1]\n"
     ]
    }
   ],
   "source": [
    "model = KNeighborsClassifier()\n",
    "model.fit(x_train, y_train)\n",
    "y_pred = model.predict(x_test)\n",
    "score = accuracy_score(y_pred=y_pred, y_true=y_test)\n",
    "print(score)\n",
    "\n",
    "print(y_pred)"
   ]
  },
  {
   "cell_type": "code",
   "execution_count": null,
   "id": "0f7e5642",
   "metadata": {},
   "outputs": [
    {
     "name": "stdout",
     "output_type": "stream",
     "text": [
      "0.9333333333333333\n"
     ]
    }
   ],
   "source": [
    "class KNN():\n",
    "    def __init__(self, nneighbors = 5):\n",
    "        self.nneighbors = nneighbors\n",
    "    \n",
    "    def fit(self, x_train, y_train):\n",
    "        self.X = x_train\n",
    "        self.Y = y_train\n",
    "    def predict(self, x):\n",
    "        distance = []\n",
    "        \n",
    "        for i in range(len(x_train)):\n",
    "            dist = self.compute_distance(x, self.X[i])\n",
    "            distance.append(dist)\n",
    "        \n",
    "        indice = np.argsort(distance)[:self.nneighbors] # Take the id of the k highest prob\n",
    "        k_highest_class = np.array([self.Y[i] for i in indice])\n",
    "            \n",
    "        return Counter(k_highest_class).most_common()[0][0]\n",
    "        \n",
    "    def compute_distance(self, pointA, pointB):\n",
    "        return np.sqrt(np.sum((np.array(pointA) - np.array(pointB))**2))\n",
    "    \n",
    "model = KNN()\n",
    "model.fit(x_train, y_train)\n",
    "y_pred = []\n",
    "for x in x_test:\n",
    "    y_pred.append(model.predict(x))\n",
    "y_pred = np.array(y_pred)\n",
    "\n",
    "score = accuracy_score(y_pred=y_pred, y_true=y_test)\n",
    "print(score)"
   ]
  }
 ],
 "metadata": {
  "kernelspec": {
   "display_name": "base",
   "language": "python",
   "name": "python3"
  },
  "language_info": {
   "codemirror_mode": {
    "name": "ipython",
    "version": 3
   },
   "file_extension": ".py",
   "mimetype": "text/x-python",
   "name": "python",
   "nbconvert_exporter": "python",
   "pygments_lexer": "ipython3",
   "version": "3.8.20"
  }
 },
 "nbformat": 4,
 "nbformat_minor": 5
}
