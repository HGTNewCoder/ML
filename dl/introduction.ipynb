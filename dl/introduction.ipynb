{
 "cells": [
  {
   "cell_type": "code",
   "execution_count": 3,
   "metadata": {},
   "outputs": [],
   "source": [
    "import tensorflow as tf\n",
    "import numpy as np\n",
    "import pandas as pd\n",
    "import keras\n",
    "from keras import layers\n"
   ]
  },
  {
   "cell_type": "code",
   "execution_count": null,
   "metadata": {},
   "outputs": [],
   "source": [
    "class MyDenseLayer(tf.keras.layers.Layer):\n",
    "    def __init__(self, input_dim, output_dim):\n",
    "        super(MyDenseLayer, self).__init__()\n",
    "        # Initialize weights and bias\n",
    "        self.W = self.add_weight(\n",
    "            shape = (input_dim, output_dim),\n",
    "            trainable = True,\n",
    "            initializer = \"random_normal\")\n",
    "        self.b = self.add_weight(\n",
    "            shape = (output_dim, ),\n",
    "            trainable = True,\n",
    "            initializer=\"zeros\")\n",
    "    def call(self, inputs):\n",
    "        z = tf.matmul(inputs, self.W) + self.b\n",
    "        output = tf.math.sigmoid(z)\n",
    "        print(type(self.W))\n",
    "        print(type(z))\n",
    "        return output\n",
    "\n",
    "input_dim = 4\n",
    "output_dim = 3\n",
    "input1 = tf.convert_to_tensor(np.random.rand(1, input_dim), dtype=tf.float32) #it might error if not convert\n",
    "input2 = [[1.0, 2.0, 3.0, 4.0]]\n",
    "\n",
    "FirstDense = MyDenseLayer(input_dim=input_dim, output_dim=output_dim)\n",
    "FirstDense.call(input1)"
   ]
  },
  {
   "cell_type": "markdown",
   "metadata": {},
   "source": [
    "### Loss Function"
   ]
  },
  {
   "cell_type": "code",
   "execution_count": null,
   "metadata": {},
   "outputs": [],
   "source": [
    "y = 0#output\n",
    "predicted = 0#predict\n",
    "#Binary Cross Entropy Loss\n",
    "loss = tf.reduce_mean( tf.nn.softmax_cross_entropy_with_logits(y, predicted))\n",
    "#Mean squared error\n",
    "loss = tf.reduce_mean(tf.square(tf.subtract(y, predicted)))\n",
    "loss = tf.keras.losses.MSE(y, predicted)"
   ]
  },
  {
   "cell_type": "markdown",
   "metadata": {},
   "source": [
    "### Gradient Descent"
   ]
  },
  {
   "cell_type": "code",
   "execution_count": null,
   "metadata": {},
   "outputs": [],
   "source": [
    "weights = tf.Variable([tf.random.normal(shape = (3, 1))])\n",
    "\n",
    "while True:\n",
    "    with tf.GradientTape as g:\n",
    "        loss = compute_loss(weights)\n",
    "        gradient = g.gradient(loss, weights)\n",
    "\n",
    "    weights = weights - lr * gradient\n",
    "    #lr: learning rate\n",
    "    #compute_loss: your loss function"
   ]
  },
  {
   "cell_type": "markdown",
   "metadata": {},
   "source": [
    "# Putting all together"
   ]
  },
  {
   "cell_type": "code",
   "execution_count": null,
   "metadata": {},
   "outputs": [],
   "source": [
    "model = tf.keras.Sequential([...])\n",
    "\n",
    "optimizer = tf.keras.optimizers.SGD() # pick your optimizer\n",
    "\n",
    "while True:\n",
    "    #forward pass through the network\n",
    "    prediction = model(x)\n",
    "    with tf.GradientTape() as g:\n",
    "        loss = compute_loss(y, prediction) #pick your loss function\n",
    "    grads = g.gradient(loss, model.trainable_variables)\n",
    "    optimizer.apply_gradients(zip(grads, model.trainable_variables))"
   ]
  },
  {
   "cell_type": "code",
   "execution_count": null,
   "metadata": {},
   "outputs": [],
   "source": [
    "model = tf.keras.Sequential()\n",
    "model.add(layers.Dense(1, activation = \"\"))\n",
    "\n",
    "optimizer = tf.keras.optimizers.SGD() # pick your optimizer\n",
    "\n",
    "while True:\n",
    "    #forward pass through the network\n",
    "    prediction = model(x)\n",
    "    with tf.GradientTape() as g:\n",
    "        loss = compute_loss(y, prediction) #pick your loss function\n",
    "    grads = g.gradient(loss, model.trainable_variables)\n",
    "    optimizer.apply_gradients(zip(grads, model.trainable_variables))"
   ]
  }
 ],
 "metadata": {
  "kernelspec": {
   "display_name": "Python 3",
   "language": "python",
   "name": "python3"
  },
  "language_info": {
   "codemirror_mode": {
    "name": "ipython",
    "version": 3
   },
   "file_extension": ".py",
   "mimetype": "text/x-python",
   "name": "python",
   "nbconvert_exporter": "python",
   "pygments_lexer": "ipython3",
   "version": "3.12.7"
  }
 },
 "nbformat": 4,
 "nbformat_minor": 2
}
