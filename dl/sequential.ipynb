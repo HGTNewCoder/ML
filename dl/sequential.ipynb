{
  "cells": [
    {
      "cell_type": "markdown",
      "metadata": {
        "id": "view-in-github",
        "colab_type": "text"
      },
      "source": [
        "<a href=\"https://colab.research.google.com/github/HGTNewCoder/ML/blob/main/dl/sequential.ipynb\" target=\"_parent\"><img src=\"https://colab.research.google.com/assets/colab-badge.svg\" alt=\"Open In Colab\"/></a>"
      ]
    },
    {
      "cell_type": "markdown",
      "metadata": {
        "id": "0uyouI27zCAL"
      },
      "source": [
        "A Sequential model is appropriate for a plain stack of layers where each layer has exactly one input tensor and one output tensor."
      ]
    },
    {
      "cell_type": "code",
      "execution_count": 1,
      "metadata": {
        "id": "Rm3_npDMzCAN"
      },
      "outputs": [],
      "source": [
        "import tensorflow as tf\n",
        "import numpy as np\n",
        "import pandas as pd\n",
        "import keras\n",
        "from keras import layers"
      ]
    },
    {
      "cell_type": "code",
      "execution_count": null,
      "metadata": {
        "id": "q-zPv19lzCAO"
      },
      "outputs": [],
      "source": [
        "# Define Sequential model with 3 layers\n",
        "model = keras.Sequential(\n",
        "    [\n",
        "        layers.Dense(2, activation=\"relu\", name=\"layer1\"),\n",
        "        layers.Dense(3, activation=\"relu\", name=\"layer2\"),\n",
        "        layers.Dense(4, name=\"layer3\"),\n",
        "    ]\n",
        ")\n",
        "# Call model on a test input\n",
        "x = tf.ones((3, 3))\n",
        "y = model(x)"
      ]
    },
    {
      "cell_type": "markdown",
      "metadata": {
        "id": "QtI4Vf-ZzCAO"
      },
      "source": [
        "# RNN from Scratch"
      ]
    },
    {
      "cell_type": "code",
      "execution_count": null,
      "metadata": {
        "id": "mXAYBKOXzCAO"
      },
      "outputs": [],
      "source": [
        "class myRNNCell(tf.keras.layers.Layer):\n",
        "    def __init__(self, rnn_units, input_dim, output_dim):\n",
        "        super(myRNNCell, self).__init__()\n",
        "\n",
        "        self.W_xh = self.add_weight([rnn_units, input_dim])\n",
        "        self.W_hh = self.add_weight([rnn_units, rnn_units])\n",
        "        self.W_hy = self.add_weight([output_dim, rnn_units])\n",
        "\n",
        "        self.h  = tf.zeros([rnn_units, 1])\n",
        "    def call(self, x):\n",
        "        #Update hidden state\n",
        "        self.h = tf.math.tanh(self.W_hh * self.h + self.W_xh * x) # activation function\n",
        "        #Compute the output\n",
        "        output = self.W_hy * self.h\n",
        "        #Return current ouput and hidden state\n",
        "        return output, self.h"
      ]
    },
    {
      "cell_type": "code",
      "execution_count": null,
      "metadata": {
        "id": "z4HlbJVBzCAP",
        "outputId": "e0b89012-0a49-442a-db34-cbbfe78e302e"
      },
      "outputs": [
        {
          "data": {
            "text/plain": [
              "<SimpleRNN name=myrnn, built=False>"
            ]
          },
          "execution_count": 6,
          "metadata": {},
          "output_type": "execute_result"
        }
      ],
      "source": [
        "tf.keras.layers.SimpleRNN(units = 2, name = \"myrnn\")"
      ]
    },
    {
      "cell_type": "code",
      "execution_count": null,
      "metadata": {
        "id": "L0KFNtxIzCAP"
      },
      "outputs": [],
      "source": [
        "loss = tf.nn.softmax_cross_entropy_with_logits(y, predicted)"
      ]
    }
  ],
  "metadata": {
    "kernelspec": {
      "display_name": "Python 3",
      "name": "python3"
    },
    "language_info": {
      "codemirror_mode": {
        "name": "ipython",
        "version": 3
      },
      "file_extension": ".py",
      "mimetype": "text/x-python",
      "name": "python",
      "nbconvert_exporter": "python",
      "pygments_lexer": "ipython3",
      "version": "3.12.7"
    },
    "colab": {
      "provenance": [],
      "gpuType": "T4",
      "include_colab_link": true
    },
    "accelerator": "GPU"
  },
  "nbformat": 4,
  "nbformat_minor": 0
}