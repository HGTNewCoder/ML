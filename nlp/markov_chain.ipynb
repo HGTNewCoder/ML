{
 "cells": [
  {
   "cell_type": "code",
   "execution_count": 2,
   "id": "initial_id",
   "metadata": {
    "ExecuteTime": {
     "end_time": "2025-04-07T21:08:18.641164Z",
     "start_time": "2025-04-07T21:08:18.635762Z"
    },
    "collapsed": true
   },
   "outputs": [
    {
     "name": "stderr",
     "output_type": "stream",
     "text": [
      "[nltk_data] Downloading package punkt_tab to\n",
      "[nltk_data]     C:\\Users\\thinh\\AppData\\Roaming\\nltk_data...\n",
      "[nltk_data]   Package punkt_tab is already up-to-date!\n"
     ]
    },
    {
     "data": {
      "text/plain": [
       "True"
      ]
     },
     "execution_count": 2,
     "metadata": {},
     "output_type": "execute_result"
    }
   ],
   "source": [
    "import os\n",
    "import numpy as np\n",
    "import pandas as pd\n",
    "import re\n",
    "import string\n",
    "import random\n",
    "import nltk\n",
    "from nltk.corpus import stopwords\n",
    "from nltk.tokenize import word_tokenize\n",
    "\n",
    "nltk.download('punkt_tab')"
   ]
  },
  {
   "cell_type": "code",
   "execution_count": 3,
   "id": "f6d12ab9a780140",
   "metadata": {
    "ExecuteTime": {
     "end_time": "2025-04-07T21:11:54.954064Z",
     "start_time": "2025-04-07T21:11:54.651115Z"
    }
   },
   "outputs": [
    {
     "name": "stdout",
     "output_type": "stream",
     "text": [
      "Warning: Looks like you're using an outdated `kagglehub` version, please consider updating (latest version: 0.3.11)\n",
      "Path to dataset files: C:\\Users\\thinh\\.cache\\kagglehub\\datasets\\idevji1\\sherlock-holmes-stories\\versions\\1\n"
     ]
    }
   ],
   "source": [
    "import kagglehub\n",
    "\n",
    "# Download latest version\n",
    "path = kagglehub.dataset_download(\"idevji1/sherlock-holmes-stories\")\n",
    "\n",
    "print(\"Path to dataset files:\", path)"
   ]
  },
  {
   "cell_type": "code",
   "execution_count": 4,
   "id": "8aa6ab3991f1d268",
   "metadata": {
    "ExecuteTime": {
     "end_time": "2025-04-07T21:38:30.861272Z",
     "start_time": "2025-04-07T21:38:30.724918Z"
    }
   },
   "outputs": [
    {
     "name": "stdout",
     "output_type": "stream",
     "text": [
      "Number of lines: 215021\n",
      "opened quite so abruptly, or so dramatically, as that which I\n"
     ]
    }
   ],
   "source": [
    "story_path = \"C:\\\\Users\\\\thinh\\\\.cache\\\\kagglehub\\\\datasets\\\\idevji1\\\\sherlock-holmes-stories\\\\versions\\\\1\\\\sherlock\\\\sherlock\\\\\"\n",
    "def read_all_stories(story_path):\n",
    "    txt = []\n",
    "    for _, _, files in os.walk(story_path):\n",
    "        for file in files:\n",
    "            with open(story_path + file) as f:\n",
    "                for line in f:\n",
    "                    line = line.strip()\n",
    "                    if line == '----------': break\n",
    "                    if line != '':txt.append(line)\n",
    "    return txt\n",
    "\n",
    "stories = read_all_stories(story_path)\n",
    "print(\"Number of lines:\", len(stories))\n",
    "print(stories[3])"
   ]
  },
  {
   "cell_type": "code",
   "execution_count": 5,
   "id": "ae0ff5d2523e761b",
   "metadata": {},
   "outputs": [
    {
     "name": "stdout",
     "output_type": "stream",
     "text": [
      "number of words  =  2332247\n"
     ]
    }
   ],
   "source": [
    "def clean_txt(txt):\n",
    "    cleaned_txt = []\n",
    "    for line in txt:\n",
    "        line = line.lower()\n",
    "        line = re.sub(r\"[,.\\\"\\'!@#$%^&*(){}?/;`~:<>+=-\\\\]\", \"\", line)\n",
    "        tokens = word_tokenize(line)\n",
    "        words = [word for word in tokens if word.isalpha()]\n",
    "        cleaned_txt += words\n",
    "    return cleaned_txt\n",
    "\n",
    "cleaned_stories = clean_txt(stories)\n",
    "print(\"number of words  = \", len(cleaned_stories))"
   ]
  },
  {
   "cell_type": "code",
   "execution_count": null,
   "id": "47993b5984dcc5b8",
   "metadata": {},
   "outputs": [],
   "source": [
    "\n",
    "def markov_model(cleaned_stories, n_gram=2):\n",
    "    markov_model = {}\n",
    "    for i in range(len(cleaned_stories)-n_gram-1):\n",
    "        curr_state, next_state = \"\", \"\"\n",
    "        for j in range(n_gram):\n",
    "            curr_state += cleaned_stories[i+j] + \" \"\n",
    "            next_state += cleaned_stories[i+j+n_gram] + \" \"\n",
    "        curr_state = curr_state[:-1] # remove \" \"\n",
    "        next_state = next_state[:-1]\n",
    "        if curr_state not in markov_model:\n",
    "            markov_model[curr_state] = {}\n",
    "            markov_model[curr_state][next_state] = 1\n",
    "        else:\n",
    "            if next_state in markov_model[curr_state]:\n",
    "                markov_model[curr_state][next_state] += 1\n",
    "            else:\n",
    "                markov_model[curr_state][next_state] = 1\n",
    "    \n",
    "    # calculating transition probabilities\n",
    "    for curr_state, transition in markov_model.items():\n",
    "        total = sum(transition.values())\n",
    "        for state, count in transition.items():\n",
    "            markov_model[curr_state][state] = count/total\n",
    "        \n",
    "    return markov_model\n",
    "\n",
    "my_model = markov_model(cleaned_stories)"
   ]
  },
  {
   "cell_type": "code",
   "execution_count": 43,
   "id": "d325f4f7",
   "metadata": {},
   "outputs": [
    {
     "name": "stdout",
     "output_type": "stream",
     "text": [
      "number of states =  208716\n"
     ]
    }
   ],
   "source": [
    "print(\"number of states = \", len(my_model.keys()))"
   ]
  },
  {
   "cell_type": "code",
   "execution_count": 49,
   "id": "fc0fdfe9",
   "metadata": {},
   "outputs": [
    {
     "name": "stdout",
     "output_type": "stream",
     "text": [
      "All possible transitions from 'worth it' state: \n",
      "\n",
      "329\n"
     ]
    }
   ],
   "source": [
    "print(\"All possible transitions from 'worth it' state: \\n\")\n",
    "print(len(my_model['sherlock holmes'].keys()))"
   ]
  },
  {
   "cell_type": "code",
   "execution_count": null,
   "id": "1c195902",
   "metadata": {},
   "outputs": [],
   "source": [
    "def default_generate_story(markov_model, limit=100, start='my god'):\n",
    "    n = 0\n",
    "    curr_state = start\n",
    "    next_state = None\n",
    "    story = \"\"\n",
    "    story+=curr_state+\" \"\n",
    "    while n<limit:\n",
    "        next_state = random.choices(list(markov_model[curr_state].keys()),\n",
    "                                    list(markov_model[curr_state].values()))\n",
    "        \n",
    "        curr_state = next_state[0]\n",
    "        story+=curr_state+\" \"\n",
    "        n+=1\n",
    "    return story\n",
    "\n",
    "def my_generate_story(limit = 100, start = 'sherlock holmes'):\n",
    "    curr_state = start\n",
    "    story+= curr_state + \" \"\n",
    "    for i in range(limit):\n",
    "        next_state = #max\n",
    "        story += next_state\n",
    "        story += \" \"\n",
    "        curr_state = next_state"
   ]
  },
  {
   "cell_type": "code",
   "execution_count": null,
   "id": "76354d7e",
   "metadata": {},
   "outputs": [
    {
     "data": {
      "text/plain": [
       "0.019103600293901544"
      ]
     },
     "execution_count": 66,
     "metadata": {},
     "output_type": "execute_result"
    }
   ],
   "source": [
    "max(my_model['sherlock holmes'].values())\n"
   ]
  }
 ],
 "metadata": {
  "kernelspec": {
   "display_name": "base",
   "language": "python",
   "name": "python3"
  },
  "language_info": {
   "codemirror_mode": {
    "name": "ipython",
    "version": 3
   },
   "file_extension": ".py",
   "mimetype": "text/x-python",
   "name": "python",
   "nbconvert_exporter": "python",
   "pygments_lexer": "ipython3",
   "version": "3.8.20"
  }
 },
 "nbformat": 4,
 "nbformat_minor": 5
}
